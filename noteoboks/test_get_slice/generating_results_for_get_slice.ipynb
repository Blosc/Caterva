{
 "cells": [
  {
   "cell_type": "markdown",
   "metadata": {},
   "source": [
    "# Generating parameters to test *get_slice()*"
   ]
  },
  {
   "cell_type": "code",
   "execution_count": 24,
   "metadata": {},
   "outputs": [],
   "source": [
    "import pycaterva as cat\n",
    "import numpy as np"
   ]
  },
  {
   "cell_type": "code",
   "execution_count": 25,
   "metadata": {},
   "outputs": [],
   "source": [
    "def print_list(lista):\n",
    "    for i in lista[:-1]:\n",
    "        print(f\"{i}-\", end=\"\")\n",
    "    print(f\"{lista[-1]};\", end=\"\")\n",
    "    \n",
    "def print_elem(elem):\n",
    "        print(f\"{elem};\", end=\"\")"
   ]
  },
  {
   "cell_type": "code",
   "execution_count": 26,
   "metadata": {},
   "outputs": [],
   "source": [
    "shape = [16, 20, 23, 1, 1, 1, 1, 1]\n",
    "cshape = [7, 3, 5, 1, 1, 1, 1, 1]\n",
    "dim = 3\n",
    "start = [2, 15, 4, 0, 0, 0, 0, 0]\n",
    "stop = [14, 18, 11, 1, 1, 1, 1, 1]\n",
    "step = [1, 1, 1, 1, 1, 1, 1, 1]\n",
    "\n",
    "d_cshape = [4, 2, 6, 1, 1, 1, 1, 1]\n",
    "d_dim = 3\n",
    "\n",
    "slices = tuple( i for i in reversed([slice(i, j) for i, j in zip(start, stop)][:dim]) )\n",
    "\n",
    "size = np.prod(shape)\n",
    "\n",
    "a = np.arange(size).reshape([i for i in reversed(shape[:dim])])\n",
    "res = a[slices].flatten()[:]"
   ]
  },
  {
   "cell_type": "code",
   "execution_count": 27,
   "metadata": {
    "scrolled": true
   },
   "outputs": [
    {
     "name": "stdout",
     "output_type": "stream",
     "text": [
      "16-20-23-1-1-1-1-1;7-3-5-1-1-1-1-1;3;2-15-4-0-0-0-0-0;14-18-11-1-1-1-1-1;1-1-1-1-1-1-1-1;4-2-6-1-1-1-1-1;3;1522-1523-1524-1525-1526-1527-1528-1529-1530-1531-1532-1533-1538-1539-1540-1541-1542-1543-1544-1545-1546-1547-1548-1549-1554-1555-1556-1557-1558-1559-1560-1561-1562-1563-1564-1565-1842-1843-1844-1845-1846-1847-1848-1849-1850-1851-1852-1853-1858-1859-1860-1861-1862-1863-1864-1865-1866-1867-1868-1869-1874-1875-1876-1877-1878-1879-1880-1881-1882-1883-1884-1885-2162-2163-2164-2165-2166-2167-2168-2169-2170-2171-2172-2173-2178-2179-2180-2181-2182-2183-2184-2185-2186-2187-2188-2189-2194-2195-2196-2197-2198-2199-2200-2201-2202-2203-2204-2205-2482-2483-2484-2485-2486-2487-2488-2489-2490-2491-2492-2493-2498-2499-2500-2501-2502-2503-2504-2505-2506-2507-2508-2509-2514-2515-2516-2517-2518-2519-2520-2521-2522-2523-2524-2525-2802-2803-2804-2805-2806-2807-2808-2809-2810-2811-2812-2813-2818-2819-2820-2821-2822-2823-2824-2825-2826-2827-2828-2829-2834-2835-2836-2837-2838-2839-2840-2841-2842-2843-2844-2845-3122-3123-3124-3125-3126-3127-3128-3129-3130-3131-3132-3133-3138-3139-3140-3141-3142-3143-3144-3145-3146-3147-3148-3149-3154-3155-3156-3157-3158-3159-3160-3161-3162-3163-3164-3165-3442-3443-3444-3445-3446-3447-3448-3449-3450-3451-3452-3453-3458-3459-3460-3461-3462-3463-3464-3465-3466-3467-3468-3469-3474-3475-3476-3477-3478-3479-3480-3481-3482-3483-3484-3485;"
     ]
    }
   ],
   "source": [
    "print_list(shape)\n",
    "print_list(cshape)\n",
    "print_elem(dim)\n",
    "print_list(start)\n",
    "print_list(stop)\n",
    "print_list(step)\n",
    "print_list(d_cshape)\n",
    "print_elem(d_dim)\n",
    "print_list(res)"
   ]
  }
 ],
 "metadata": {
  "kernelspec": {
   "display_name": "Python 3",
   "language": "python",
   "name": "python3"
  },
  "language_info": {
   "codemirror_mode": {
    "name": "ipython",
    "version": 3
   },
   "file_extension": ".py",
   "mimetype": "text/x-python",
   "name": "python",
   "nbconvert_exporter": "python",
   "pygments_lexer": "ipython3",
   "version": "3.6.4"
  }
 },
 "nbformat": 4,
 "nbformat_minor": 2
}
