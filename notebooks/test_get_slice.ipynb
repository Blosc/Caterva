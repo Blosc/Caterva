{
 "cells": [
  {
   "cell_type": "markdown",
   "metadata": {},
   "source": [
    "# Test `caterva_get_slice()`"
   ]
  },
  {
   "cell_type": "code",
   "execution_count": 2,
   "metadata": {},
   "outputs": [],
   "source": [
    "import pycblosc2 as pyc\n",
    "import pcatervaW as cat\n",
    "import numpy as np"
   ]
  },
  {
   "cell_type": "markdown",
   "metadata": {},
   "source": [
    "## Define parameters"
   ]
  },
  {
   "cell_type": "code",
   "execution_count": 4,
   "metadata": {},
   "outputs": [],
   "source": [
    "shape = [512, 512, 512, 1, 1, 1, 1, 1]\n",
    "cshape = [64, 32, 64, 1, 1, 1, 1, 1]\n",
    "\n",
    "start = [130, 101, 230, 0, 0, 0, 0, 0]\n",
    "stop = [220, 300, 300, 1, 1, 1, 1, 1]\n",
    "step = [1, 1, 1, 1, 1, 1, 1, 1]\n",
    "\n",
    "dim = 3\n",
    "\n",
    "slice_np = tuple([slice(i, j) for i, j in zip(reversed(start[0:dim]), reversed(stop[0:dim]))])\n",
    "\n",
    "shape_slice = [stop[i] - start[i] for i in range(8)]\n",
    "cshape_slice = [32, 32, 32, 1, 1, 1, 1, 1]\n",
    "\n",
    "\n",
    "size = np.prod(shape)\n",
    "csize = np.prod(cshape)\n",
    "\n",
    "size_slice = np.prod(shape_slice)\n",
    "csize_slice = np.prod(cshape_slice)\n",
    "\n",
    "dtype = np.float64\n",
    "typesize = np.dtype(dtype).itemsize"
   ]
  },
  {
   "cell_type": "markdown",
   "metadata": {},
   "source": [
    "## Create params and caterva containers"
   ]
  },
  {
   "cell_type": "code",
   "execution_count": 5,
   "metadata": {},
   "outputs": [],
   "source": [
    "cp = cat.caterva_create_cparams(compcode=1, clevel=5, use_dict=0, typesize=typesize, nthreads=4,\n",
    "                               blocksize=1024, schunk=None, filters=[0, 0, 0, 0, 1],\n",
    "                               filters_meta=[0, 0, 0, 0, 2])\n",
    "\n",
    "dp = cat.caterva_create_dparams(nthreads=1, schunk=None)\n",
    "\n",
    "pp = cat.caterva_create_pparams(shape,cshape, dim)\n",
    "\n",
    "pp_slice = cat.caterva_create_pparams(shape_slice, cshape_slice, dim)\n",
    "\n",
    "carr = cat.caterva_new_array(cp, dp, pp)\n",
    "carr_slice = cat.caterva_new_array(cp, dp, pp_slice)"
   ]
  },
  {
   "cell_type": "markdown",
   "metadata": {},
   "source": [
    "## Create example data"
   ]
  },
  {
   "cell_type": "code",
   "execution_count": 6,
   "metadata": {},
   "outputs": [],
   "source": [
    "arr = np.linspace(0, size - 1, size, dtype=dtype).reshape([i for i in reversed(shape[0:dim])])\n",
    "arr_slice = np.empty(size_slice, dtype=dtype).reshape([i for i in reversed(shape_slice[0:dim])])"
   ]
  },
  {
   "cell_type": "markdown",
   "metadata": {},
   "source": [
    "## Get a slice using caterva"
   ]
  },
  {
   "cell_type": "code",
   "execution_count": 7,
   "metadata": {},
   "outputs": [],
   "source": [
    "error = cat.caterva_schunk_fill_from_array(arr, carr)\n",
    "\n",
    "error = cat.caterva_get_slice(carr, carr_slice, start, stop, step)\n",
    "\n",
    "error = cat.caterva_array_fill_from_schunk(carr_slice, arr_slice)"
   ]
  },
  {
   "cell_type": "markdown",
   "metadata": {},
   "source": [
    "## Get a slice using *numpy*"
   ]
  },
  {
   "cell_type": "code",
   "execution_count": 8,
   "metadata": {},
   "outputs": [],
   "source": [
    "arr_np = arr[slice_np]"
   ]
  },
  {
   "cell_type": "markdown",
   "metadata": {},
   "source": [
    "## Test results"
   ]
  },
  {
   "cell_type": "code",
   "execution_count": 9,
   "metadata": {},
   "outputs": [],
   "source": [
    "np.testing.assert_array_almost_equal(arr_slice, arr_np)"
   ]
  },
  {
   "cell_type": "code",
   "execution_count": null,
   "metadata": {},
   "outputs": [],
   "source": []
  }
 ],
 "metadata": {
  "kernelspec": {
   "display_name": "Python 3",
   "language": "python",
   "name": "python3"
  },
  "language_info": {
   "codemirror_mode": {
    "name": "ipython",
    "version": 3
   },
   "file_extension": ".py",
   "mimetype": "text/x-python",
   "name": "python",
   "nbconvert_exporter": "python",
   "pygments_lexer": "ipython3",
   "version": "3.6.4"
  }
 },
 "nbformat": 4,
 "nbformat_minor": 2
}
