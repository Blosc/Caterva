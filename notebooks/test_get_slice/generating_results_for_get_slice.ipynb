{
 "cells": [
  {
   "cell_type": "markdown",
   "metadata": {},
   "source": [
    "# Generating parameters to test *get_slice()*"
   ]
  },
  {
   "cell_type": "code",
   "execution_count": 52,
   "metadata": {},
   "outputs": [],
   "source": [
    "import pycaterva as cat\n",
    "import numpy as np"
   ]
  },
  {
   "cell_type": "code",
   "execution_count": 53,
   "metadata": {},
   "outputs": [],
   "source": [
    "def print_list(lista):\n",
    "    print(\"{\", end=\"\")\n",
    "    for i in lista[:-1]:\n",
    "        print(f\"{i}, \", end=\"\")\n",
    "    print(f\"{lista[-1]}\", end=\"\")\n",
    "    print(\"}\")"
   ]
  },
  {
   "cell_type": "code",
   "execution_count": 71,
   "metadata": {},
   "outputs": [],
   "source": [
    "shape = [10, 10, 10, 10, 10, 10, 10]\n",
    "start = [5, 4, 3, 8, 4, 5, 1]\n",
    "stop = [8, 6, 5, 9, 7, 7, 3]\n",
    "\n",
    "slices = tuple([slice(i, j) for i, j in zip(start, stop)])\n",
    "size = np.prod(shape)\n",
    "\n",
    "a = np.arange(size).reshape(shape)\n",
    "res = a[slices].flatten()"
   ]
  },
  {
   "cell_type": "code",
   "execution_count": 72,
   "metadata": {
    "scrolled": true
   },
   "outputs": [
    {
     "name": "stdout",
     "output_type": "stream",
     "text": [
      "{5438451, 5438452, 5438461, 5438462, 5438551, 5438552, 5438561, 5438562, 5438651, 5438652, 5438661, 5438662, 5448451, 5448452, 5448461, 5448462, 5448551, 5448552, 5448561, 5448562, 5448651, 5448652, 5448661, 5448662, 5538451, 5538452, 5538461, 5538462, 5538551, 5538552, 5538561, 5538562, 5538651, 5538652, 5538661, 5538662, 5548451, 5548452, 5548461, 5548462, 5548551, 5548552, 5548561, 5548562, 5548651, 5548652, 5548661, 5548662, 6438451, 6438452, 6438461, 6438462, 6438551, 6438552, 6438561, 6438562, 6438651, 6438652, 6438661, 6438662, 6448451, 6448452, 6448461, 6448462, 6448551, 6448552, 6448561, 6448562, 6448651, 6448652, 6448661, 6448662, 6538451, 6538452, 6538461, 6538462, 6538551, 6538552, 6538561, 6538562, 6538651, 6538652, 6538661, 6538662, 6548451, 6548452, 6548461, 6548462, 6548551, 6548552, 6548561, 6548562, 6548651, 6548652, 6548661, 6548662, 7438451, 7438452, 7438461, 7438462, 7438551, 7438552, 7438561, 7438562, 7438651, 7438652, 7438661, 7438662, 7448451, 7448452, 7448461, 7448462, 7448551, 7448552, 7448561, 7448562, 7448651, 7448652, 7448661, 7448662, 7538451, 7538452, 7538461, 7538462, 7538551, 7538552, 7538561, 7538562, 7538651, 7538652, 7538661, 7538662, 7548451, 7548452, 7548461, 7548462, 7548551, 7548552, 7548561, 7548562, 7548651, 7548652, 7548661, 7548662}\n"
     ]
    }
   ],
   "source": [
    "print_list(res)"
   ]
  },
  {
   "cell_type": "code",
   "execution_count": null,
   "metadata": {},
   "outputs": [],
   "source": []
  },
  {
   "cell_type": "code",
   "execution_count": null,
   "metadata": {},
   "outputs": [],
   "source": []
  }
 ],
 "metadata": {
  "kernelspec": {
   "display_name": "Python 3",
   "language": "python",
   "name": "python3"
  },
  "language_info": {
   "codemirror_mode": {
    "name": "ipython",
    "version": 3
   },
   "file_extension": ".py",
   "mimetype": "text/x-python",
   "name": "python",
   "nbconvert_exporter": "python",
   "pygments_lexer": "ipython3",
   "version": "3.6.4"
  }
 },
 "nbformat": 4,
 "nbformat_minor": 2
}
